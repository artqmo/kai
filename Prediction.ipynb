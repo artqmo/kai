{
 "cells": [
  {
   "cell_type": "code",
   "execution_count": 4,
   "metadata": {},
   "outputs": [
    {
     "name": "stdout",
     "output_type": "stream",
     "text": [
      "Finished training\n"
     ]
    },
    {
     "data": {
      "text/html": [
       "<div>\n",
       "<style scoped>\n",
       "    .dataframe tbody tr th:only-of-type {\n",
       "        vertical-align: middle;\n",
       "    }\n",
       "\n",
       "    .dataframe tbody tr th {\n",
       "        vertical-align: top;\n",
       "    }\n",
       "\n",
       "    .dataframe thead th {\n",
       "        text-align: right;\n",
       "    }\n",
       "</style>\n",
       "<table border=\"1\" class=\"dataframe\">\n",
       "  <thead>\n",
       "    <tr style=\"text-align: right;\">\n",
       "      <th></th>\n",
       "      <th>Date</th>\n",
       "      <th>Home Team Name</th>\n",
       "      <th>Away Team Name</th>\n",
       "      <th>Pred. Goal Difference</th>\n",
       "      <th>Pred. Result</th>\n",
       "    </tr>\n",
       "  </thead>\n",
       "  <tbody>\n",
       "    <tr>\n",
       "      <th>0</th>\n",
       "      <td>06.07.18 17:00</td>\n",
       "      <td>Uruguay</td>\n",
       "      <td>France</td>\n",
       "      <td>1.351575</td>\n",
       "      <td>0</td>\n",
       "    </tr>\n",
       "    <tr>\n",
       "      <th>1</th>\n",
       "      <td>06.07.18 21:00</td>\n",
       "      <td>Brazil</td>\n",
       "      <td>Belgium</td>\n",
       "      <td>1.579874</td>\n",
       "      <td>2</td>\n",
       "    </tr>\n",
       "    <tr>\n",
       "      <th>2</th>\n",
       "      <td>07.07.18 17:00</td>\n",
       "      <td>Sweden</td>\n",
       "      <td>England</td>\n",
       "      <td>1.177597</td>\n",
       "      <td>0</td>\n",
       "    </tr>\n",
       "    <tr>\n",
       "      <th>3</th>\n",
       "      <td>07.07.18 21:00</td>\n",
       "      <td>Russia</td>\n",
       "      <td>Croatia</td>\n",
       "      <td>1.344527</td>\n",
       "      <td>0</td>\n",
       "    </tr>\n",
       "  </tbody>\n",
       "</table>\n",
       "</div>"
      ],
      "text/plain": [
       "             Date Home Team Name Away Team Name  Pred. Goal Difference  \\\n",
       "0  06.07.18 17:00        Uruguay         France               1.351575   \n",
       "1  06.07.18 21:00         Brazil        Belgium               1.579874   \n",
       "2  07.07.18 17:00         Sweden        England               1.177597   \n",
       "3  07.07.18 21:00         Russia        Croatia               1.344527   \n",
       "\n",
       "   Pred. Result  \n",
       "0             0  \n",
       "1             2  \n",
       "2             0  \n",
       "3             0  "
      ]
     },
     "execution_count": 4,
     "metadata": {},
     "output_type": "execute_result"
    }
   ],
   "source": [
    "import pandas as pd\n",
    "import prediction\n",
    "\n",
    "matches = pd.read_csv(\"data/raw/2018Matches.csv\")\n",
    "\n",
    "matches_to_predict = matches[matches[\"Round Number\"] == \"Quarter Finals\"]\n",
    "#matches_to_predict = matches[matches[\"Round Number\"].isin([\"1\",\"2\",\"3\"])]\n",
    "\n",
    "team_scores = pd.read_csv(\"data/clean/teams2018.csv\")\n",
    "fifa_ranks = pd.read_csv(\"data/clean/fifa_ranking_wm.csv\")\n",
    "training_data = pd.read_csv(\"data/clean/training_data.csv\")\n",
    "\n",
    "preprocessed_matches = prediction.preprocess_matches(matches_to_predict, team_scores, fifa_ranks)\n",
    "training_data = prediction.featurize_matches(training_data)\n",
    "prediction = prediction.predict_matches(preprocessed_matches, training_data)\n",
    "\n",
    "prediction"
   ]
  },
  {
   "cell_type": "code",
   "execution_count": null,
   "metadata": {},
   "outputs": [],
   "source": []
  },
  {
   "cell_type": "code",
   "execution_count": null,
   "metadata": {},
   "outputs": [],
   "source": []
  }
 ],
 "metadata": {
  "kernelspec": {
   "display_name": "wm_tippkick",
   "language": "python",
   "name": "wm_tippkick"
  },
  "language_info": {
   "codemirror_mode": {
    "name": "ipython",
    "version": 3
   },
   "file_extension": ".py",
   "mimetype": "text/x-python",
   "name": "python",
   "nbconvert_exporter": "python",
   "pygments_lexer": "ipython3",
   "version": "3.6.6"
  }
 },
 "nbformat": 4,
 "nbformat_minor": 2
}
