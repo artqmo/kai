{
 "cells": [
  {
   "cell_type": "code",
   "execution_count": 1,
   "metadata": {},
   "outputs": [],
   "source": [
    "import pandas as pd\n",
    "import wm_helpers"
   ]
  },
  {
   "cell_type": "code",
   "execution_count": 2,
   "metadata": {},
   "outputs": [],
   "source": [
    "matches = pd.read_csv(\"data/raw/HistoricMatches.csv\")\n",
    "\n",
    "matches = matches[[\"Year\", \"Home Team Name\", \"Home Team Goals\", \"Away Team Name\", \"Away Team Goals\", \"Stage\", \"Win conditions\"]]\n",
    "matches = matches.query('Year >= 2010')\n",
    "\n",
    "replace_dict = {'rn\">Serbia and Montenegro':'Serbia and Montenegro',\n",
    "                \"C�te d'Ivoire\":\"Côte d'Ivoire\",\n",
    "                'rn\">Bosnia and Herzegovina':'Bosnia and Herzegovina',\n",
    "                'rn\">Trinidad and Tobago':'Trinidad and Tobago'}\n",
    "\n",
    "matches[\"Home Team Name\"] = matches[\"Home Team Name\"].replace(replace_dict)\n",
    "matches[\"Away Team Name\"] = matches[\"Away Team Name\"].replace(replace_dict)\n",
    "\n",
    "matches[\"Group Stage\"] = matches[\"Stage\"].str.contains(\"Group\")\n",
    "matches = matches.drop([\"Stage\"], axis=1)\n",
    "\n",
    "teams = pd.read_csv(\"data/raw/TeamsInfo.csv\")\n",
    "teams[\"Nationality\"] = teams[\"Nationality\"].replace({'United States':'USA', \"Iran\":\"IR Iran\"})"
   ]
  },
  {
   "cell_type": "code",
   "execution_count": 3,
   "metadata": {},
   "outputs": [
    {
     "name": "stdout",
     "output_type": "stream",
     "text": [
      "138\n",
      "148\n",
      "148\n",
      "157\n"
     ]
    }
   ],
   "source": [
    "teams = pd.read_csv(\"data/raw/TeamsInfo.csv\")\n",
    "teams[\"Nationality\"] = teams[\"Nationality\"].replace({'United States':'USA', \"Iran\":\"IR Iran\"})\n",
    "\n",
    "fifa = pd.read_csv(\"data/clean/fifa_ranking_wm.csv\")\n",
    "\n",
    "for year in [2010, 2014]:\n",
    "    matches_y = matches[matches[\"Year\"] == year]\n",
    "    fifa_y = fifa[fifa[\"year\"] == year]\n",
    "    teams_y = teams[teams[\"Year\"] == year]\n",
    "\n",
    "    print(len(teams))\n",
    "    derived_teams = wm_helpers.derive_scores(matches_y[\"Home Team Name\"], fifa_y, teams_y)\n",
    "    teams = teams.append(derived_teams)\n",
    "    print(len(teams))\n",
    "teams.to_csv(\"data/clean/teams_wm.csv\", index=False)"
   ]
  },
  {
   "cell_type": "code",
   "execution_count": 4,
   "metadata": {},
   "outputs": [],
   "source": [
    "import re\n",
    "\n",
    "fifa = pd.read_csv(\"data/clean/fifa_ranking_wm.csv\")\n",
    "\n",
    "df_all = pd.merge(matches, teams, how=\"left\", left_on=[\"Year\", \"Home Team Name\"], \n",
    "              right_on=[\"Year\", \"Nationality\"],)\n",
    "df_all = pd.merge(df_all, teams, how=\"left\", left_on=[\"Year\", \"Away Team Name\"], \n",
    "              right_on=[\"Year\", \"Nationality\"], suffixes=(' Home', ' Away'))\n",
    "\n",
    "df_all = pd.merge(df_all, fifa[[\"year\", \"country_full\", \"rank\"]], how=\"left\", left_on=[\"Year\", \"Home Team Name\"], \n",
    "              right_on=[\"year\", \"country_full\"])\n",
    "df_all = pd.merge(df_all, fifa[[\"year\", \"country_full\", \"rank\"]], how=\"left\", left_on=[\"Year\", \"Away Team Name\"], \n",
    "              right_on=[\"year\", \"country_full\"], suffixes=(' Home', ' Away'))\n",
    "\n",
    "df_all.drop(['year Away', 'year Home', \"country_full Away\", \"country_full Home\"], axis=1, inplace=True)\n",
    "\n",
    "def add_penalties_goals(row):\n",
    "    win_text = row[\"Win conditions\"]\n",
    "    if (win_text != '') & (\"penalties\" in win_text):\n",
    "        m = re.search(\"(?:\\()(\\d+)(?:\\s-\\s)(\\d+)(?:\\))\", win_text)\n",
    "        row[\"Home Team Goals\"] = m.group(1)\n",
    "        row[\"Away Team Goals\"] = m.group(2)\n",
    "    return row  \n",
    "        \n",
    "df_final = df_all.apply(add_penalties_goals, axis=1)\n",
    "df_final.drop([\"Win conditions\"], axis=1, inplace=True)\n",
    "\n",
    "df_final.to_csv(\"data/clean/training_data.csv\", index=False)"
   ]
  },
  {
   "cell_type": "code",
   "execution_count": 6,
   "metadata": {},
   "outputs": [
    {
     "name": "stdout",
     "output_type": "stream",
     "text": [
      "50\n",
      "61\n"
     ]
    }
   ],
   "source": [
    "#teams = pd.read_csv(\"data/raw/TeamsInfo.csv\")\n",
    "teams2018 = teams[teams[\"Year\"] == 2018]\n",
    "\n",
    "new_matches =  pd.read_csv(\"data/raw/2018Matches.csv\")\n",
    "new_matches = new_matches[new_matches[\"Round Number\"].isin([\"1\",\"2\",\"3\"])]\n",
    "new_matches[\"Home Team Name\"] = new_matches[\"Home Team Name\"].replace({\"Iran\":\"IR Iran\"})\n",
    "new_matches[\"Away Team Name\"] = new_matches[\"Away Team Name\"].replace({\"Iran\":\"IR Iran\"})\n",
    "\n",
    "new_matches.to_csv(\"data/clean/2018MatchesGroup.csv\", index=False)\n",
    "\n",
    "#fifa = pd.read_csv(\"data/raw/fifa_ranking_wm.csv\")\n",
    "fifa_2018 = fifa[fifa[\"year\"] == 2018]\n",
    "print(len(teams2018))\n",
    "derived_teams = wm_helpers.derive_scores(new_matches[\"Home Team Name\"], fifa_2018, teams2018)\n",
    "teams2018 = teams2018.append(derived_teams)\n",
    "print(len(teams2018))\n",
    "teams2018.to_csv(\"data/clean/teams2018.csv\", index=False)"
   ]
  },
  {
   "cell_type": "code",
   "execution_count": null,
   "metadata": {},
   "outputs": [],
   "source": []
  }
 ],
 "metadata": {
  "kernelspec": {
   "display_name": "wm_tippkick",
   "language": "python",
   "name": "wm_tippkick"
  },
  "language_info": {
   "codemirror_mode": {
    "name": "ipython",
    "version": 3
   },
   "file_extension": ".py",
   "mimetype": "text/x-python",
   "name": "python",
   "nbconvert_exporter": "python",
   "pygments_lexer": "ipython3",
   "version": "3.6.6"
  }
 },
 "nbformat": 4,
 "nbformat_minor": 2
}
