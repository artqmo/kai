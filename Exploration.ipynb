{
 "cells": [
  {
   "cell_type": "code",
   "execution_count": 2,
   "metadata": {},
   "outputs": [],
   "source": [
    "import helpers\n",
    "import pandas as pd\n",
    "\n",
    "matches_2018 = pd.read_csv(\"data/raw/2018Matches.csv\")\n",
    "matches_hist = pd.read_csv(\"data/raw/HistoricMatches.csv\")\n",
    "matches_hist = matches_hist[matches_hist[\"Year\"] >= 2010]\n",
    "fifa_ranking = pd.read_csv(\"data/raw/fifa_ranking.csv\")\n",
    "teams_info = pd.read_csv(\"data/raw/TeamsInfo.csv\")"
   ]
  },
  {
   "cell_type": "code",
   "execution_count": 2,
   "metadata": {},
   "outputs": [],
   "source": [
    "nations_2018 = matches_2018[\"Home Team\"]\n",
    "nations_hist = matches_hist[\"Home Team Name\"]\n",
    "nations_team_info = teams_info[\"Nationality\"]\n",
    "nations_fifa = fifa_ranking[\"country_full\"]\n",
    "\n",
    "outer = helpers.outersection(nations_2018, nations_hist, \n",
    "                             nations_team_info, nations_fifa)\n",
    "outer[~outer.isnull()]\n",
    "#outer = outer[~outer[\"difference\"].isin([\"Group\", \"To \"])]\n",
    "outer = outer[~outer[\"difference\"].str.contains(\"Group|To\", na=False)]\n",
    "#outer = outer[outer[\"In this series\"] != 3]\n",
    "outer.reset_index(drop=True)\n",
    "outer.to_csv(\"differences.csv\", index=False)"
   ]
  },
  {
   "cell_type": "code",
   "execution_count": 3,
   "metadata": {},
   "outputs": [],
   "source": [
    "pd_diff = pd.read_csv(\"differences.csv\")\n",
    "#idx_1 = diff[\"In this series\"].unique()"
   ]
  },
  {
   "cell_type": "code",
   "execution_count": 4,
   "metadata": {},
   "outputs": [],
   "source": [
    "from fuzzywuzzy import fuzz\n",
    "from fuzzywuzzy import process\n",
    "\n",
    "suggestions = helpers.similiar_outersections(pd_diff)\n",
    "pd_diff[\"suggestions\"] = suggestions\n",
    "pd_diff.to_csv(\"suggestions.csv\", index=False)"
   ]
  },
  {
   "cell_type": "code",
   "execution_count": 6,
   "metadata": {},
   "outputs": [
    {
     "name": "stdout",
     "output_type": "stream",
     "text": [
      "[[0. 0.]\n",
      " [0. 1.]\n",
      " [0. 3.]\n",
      " [1. 0.]\n",
      " [2. 0.]\n",
      " [2. 1.]]\n",
      "[ 5  6  4 10  5 16]\n"
     ]
    }
   ],
   "source": [
    "import numpy as np\n",
    "wins = pd.read_csv(\"Preprocessed_data.csv\")\n",
    "\n",
    "wins = wins[wins[\"Year\"] == 2014]\n",
    "wins = wins[[\"Home Team Goals\", \"Away Team Goals\"]].values\n",
    "#wins.sort(axis=1)\n",
    "u, counts = np.unique(wins, return_counts=True, axis=0)\n",
    "select = counts >3\n",
    "print(u[select])\n",
    "print(counts[select])"
   ]
  },
  {
   "cell_type": "code",
   "execution_count": null,
   "metadata": {},
   "outputs": [],
   "source": []
  }
 ],
 "metadata": {
  "kernelspec": {
   "display_name": "wm_tippkick",
   "language": "python",
   "name": "wm_tippkick"
  },
  "language_info": {
   "codemirror_mode": {
    "name": "ipython",
    "version": 3
   },
   "file_extension": ".py",
   "mimetype": "text/x-python",
   "name": "python",
   "nbconvert_exporter": "python",
   "pygments_lexer": "ipython3",
   "version": "3.6.6"
  }
 },
 "nbformat": 4,
 "nbformat_minor": 2
}
